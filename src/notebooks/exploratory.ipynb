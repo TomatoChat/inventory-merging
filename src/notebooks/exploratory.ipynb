{
 "cells": [
  {
   "cell_type": "code",
   "execution_count": 1,
   "id": "40f28c61",
   "metadata": {},
   "outputs": [
    {
     "name": "stderr",
     "output_type": "stream",
     "text": [
      "/opt/anaconda3/envs/inventory-merging/lib/python3.11/site-packages/tqdm/auto.py:21: TqdmWarning: IProgress not found. Please update jupyter and ipywidgets. See https://ipywidgets.readthedocs.io/en/stable/user_install.html\n",
      "  from .autonotebook import tqdm as notebook_tqdm\n"
     ]
    }
   ],
   "source": [
    "import glob\n",
    "import logging\n",
    "import numpy as np\n",
    "import os\n",
    "import pandas as pd\n",
    "from sentence_transformers import SentenceTransformer\n",
    "from sklearn.metrics.pairwise import cosine_distances\n",
    "\n",
    "currentDirectory = os.getcwd()\n",
    "\n",
    "if not os.path.exists('data'):\n",
    "    while currentDirectory != os.path.dirname(currentDirectory):\n",
    "        parentDirectory = os.path.dirname(currentDirectory)\n",
    "\n",
    "        if os.path.exists(os.path.join(parentDirectory, 'data')):\n",
    "            os.chdir(parentDirectory)\n",
    "            break\n",
    "\n",
    "        currentDirectory = parentDirectory\n",
    "\n",
    "logging.basicConfig(\n",
    "    level=logging.INFO,\n",
    "    format='%(asctime)s - %(levelname)s - %(message)s',\n",
    "    datefmt='%Y-%m-%d %H:%M:%S'\n",
    ")"
   ]
  },
  {
   "cell_type": "code",
   "execution_count": 2,
   "id": "97079137",
   "metadata": {},
   "outputs": [
    {
     "name": "stderr",
     "output_type": "stream",
     "text": [
      "/var/folders/94/8tcfn2853pq34sljn01lv5bc0000gp/T/ipykernel_18740/1968984510.py:6: DtypeWarning: Columns (6,7) have mixed types. Specify dtype option on import or set low_memory=False.\n",
      "  sendingStoreInventory = pd.read_csv('data/store_2.csv')\n"
     ]
    }
   ],
   "source": [
    "filePattern = 'data/store_1_*.csv'\n",
    "receivingStoreInventory = pd.concat([pd.read_csv(f) for f in glob.glob(filePattern)], ignore_index=True)\n",
    "receivingStoreInventory['Qty.'] = pd.to_numeric(receivingStoreInventory['Qty.'].fillna(0), errors='coerce')\n",
    "receivingStoreInventory['Price'] = pd.to_numeric(receivingStoreInventory['Price'].fillna(0), errors='coerce')\n",
    "\n",
    "sendingStoreInventory = pd.read_csv('data/store_2.csv')\n",
    "sendingStoreInventory['Qty.'] = pd.to_numeric(sendingStoreInventory['Qty.'].fillna(0), errors='coerce')\n",
    "sendingStoreInventory = sendingStoreInventory.loc[sendingStoreInventory['Qty.'] > 0]"
   ]
  },
  {
   "cell_type": "markdown",
   "id": "ff44b1df",
   "metadata": {},
   "source": [
    "# Data cleaning"
   ]
  },
  {
   "cell_type": "code",
   "execution_count": 3,
   "id": "97d0b72c",
   "metadata": {},
   "outputs": [],
   "source": [
    "def checkDuplicatesColumnDifferences(df: pd.DataFrame, columnToCheck: str, columnDuplicated: str = 'Item') -> tuple[int, list[str]]:\n",
    "    sortedDuplicates = df.loc[df.duplicated(subset=[columnDuplicated], keep=False)].sort_values('Item')\n",
    "    differentPrices = []\n",
    "\n",
    "    for duplicate in sortedDuplicates[columnDuplicated].unique():\n",
    "        duplicateData = sortedDuplicates.loc[sortedDuplicates[columnDuplicated] == duplicate]\n",
    "        uniquePrices = duplicateData[columnToCheck].nunique()\n",
    "\n",
    "        if uniquePrices > 1:\n",
    "            differentPrices.append(duplicate)\n",
    "            \n",
    "    logging.info(f'Duplicates with different \"{columnToCheck}\" #{len(differentPrices)}')\n",
    "    return len(differentPrices), differentPrices\n",
    "\n",
    "\n",
    "def mergeDuplicates(df: pd.DataFrame, columnsToMerge: dict[str, str], columnDuplicated: list[str] = ['Item']) -> pd.DataFrame:\n",
    "    logging.info(f'Duplicate item #{df.duplicated(subset=columnDuplicated).sum()}')\n",
    "    mergedDuplicates = df.groupby(columnDuplicated).agg(columnsToMerge).reset_index()\n",
    "    df = pd.merge(df.drop_duplicates(subset=columnDuplicated, keep = 'first').drop(columns=list(columnsToMerge.keys())), mergedDuplicates,\n",
    "                  on=columnDuplicated,\n",
    "                  how='left')\n",
    "    \n",
    "    logging.info(f'Duplicate item #{df.duplicated(subset=columnDuplicated).sum()}')\n",
    "    return df"
   ]
  },
  {
   "cell_type": "code",
   "execution_count": 4,
   "id": "8fdf50c0",
   "metadata": {},
   "outputs": [
    {
     "name": "stderr",
     "output_type": "stream",
     "text": [
      "2025-07-10 00:42:26 - INFO - Duplicates with different \"Price\" #0\n",
      "2025-07-10 00:42:26 - INFO - Duplicates with different \"UPC\" #70\n",
      "2025-07-10 00:42:26 - INFO - Duplicate item #653\n",
      "2025-07-10 00:42:26 - INFO - Duplicate item #0\n",
      "2025-07-10 00:42:27 - INFO - Duplicate item #8\n",
      "2025-07-10 00:42:27 - INFO - Duplicate item #0\n"
     ]
    }
   ],
   "source": [
    "# Sending store\n",
    "numberOfDuplicatesPrices, differentPrices = checkDuplicatesColumnDifferences(receivingStoreInventory, 'Price')\n",
    "numberOfDuplicatesUPC, differentUPC = checkDuplicatesColumnDifferences(receivingStoreInventory, 'UPC')\n",
    "receivingStoreInventory = mergeDuplicates(receivingStoreInventory, {'Qty.': 'sum', 'Price': 'mean', 'UPC': 'first'})\n",
    "receivingStoreInventory.to_csv('data/receivingStoreInventory.csv', index=False)\n",
    "\n",
    "# Receiving store\n",
    "sendingStoreInventory = mergeDuplicates(sendingStoreInventory, {'Qty.': 'sum'})\n",
    "receivingStoreInventory.to_csv('data/sendingStoreInventory.csv', index=False)"
   ]
  },
  {
   "cell_type": "markdown",
   "id": "ed2b4ffa",
   "metadata": {},
   "source": [
    "# Matching algorithm"
   ]
  },
  {
   "cell_type": "code",
   "execution_count": 5,
   "id": "f7ef5772",
   "metadata": {},
   "outputs": [
    {
     "name": "stderr",
     "output_type": "stream",
     "text": [
      "/var/folders/94/8tcfn2853pq34sljn01lv5bc0000gp/T/ipykernel_18740/3351263055.py:1: DtypeWarning: Columns (6,7,8,9) have mixed types. Specify dtype option on import or set low_memory=False.\n",
      "  receivingStoreInventory = pd.read_csv('data/receivingStoreInventory.csv')\n",
      "/var/folders/94/8tcfn2853pq34sljn01lv5bc0000gp/T/ipykernel_18740/3351263055.py:2: DtypeWarning: Columns (6,7,8,9) have mixed types. Specify dtype option on import or set low_memory=False.\n",
      "  sendingStoreInventory = pd.read_csv('data/sendingStoreInventory.csv')\n"
     ]
    }
   ],
   "source": [
    "receivingStoreInventory = pd.read_csv('data/receivingStoreInventory.csv')\n",
    "sendingStoreInventory = pd.read_csv('data/sendingStoreInventory.csv')"
   ]
  },
  {
   "cell_type": "markdown",
   "id": "5c275f8e",
   "metadata": {},
   "source": [
    "## Embeddings creation"
   ]
  },
  {
   "cell_type": "code",
   "execution_count": 6,
   "id": "054e8635",
   "metadata": {},
   "outputs": [],
   "source": [
    "def createEmbeddings(itemNames: list[str], modelNameHF: str = 'all-MiniLM-L6-v2') -> list[list[float]]:\n",
    "    model = SentenceTransformer(modelNameHF)\n",
    "    embeddings = model.encode(itemNames)\n",
    "    \n",
    "    return embeddings.tolist()"
   ]
  },
  {
   "cell_type": "code",
   "execution_count": 7,
   "id": "67c525d5",
   "metadata": {},
   "outputs": [
    {
     "name": "stderr",
     "output_type": "stream",
     "text": [
      "2025-07-10 00:42:28 - INFO - Use pytorch device_name: mps\n",
      "2025-07-10 00:42:28 - INFO - Load pretrained SentenceTransformer: all-MiniLM-L6-v2\n",
      "Batches: 100%|██████████| 4123/4123 [01:05<00:00, 63.01it/s]\n",
      "2025-07-10 00:44:06 - INFO - Use pytorch device_name: mps\n",
      "2025-07-10 00:44:06 - INFO - Load pretrained SentenceTransformer: all-MiniLM-L6-v2\n",
      "Batches: 100%|██████████| 4123/4123 [01:08<00:00, 60.57it/s]\n"
     ]
    }
   ],
   "source": [
    "# Receiving store\n",
    "receivingStoreInventory = receivingStoreInventory.loc[(receivingStoreInventory['Item'].notna()) &\n",
    "                                                      (receivingStoreInventory['Item'].str.strip() != '')].reset_index(drop=True)\n",
    "receivingStoreInventoryEmbeddingsDF = pd.DataFrame({\n",
    "    'Item': receivingStoreInventory['Item'].tolist(),\n",
    "    'Embeddings': createEmbeddings(receivingStoreInventory['Item'].tolist())\n",
    "})\n",
    "receivingStoreInventory = pd.merge(receivingStoreInventory, receivingStoreInventoryEmbeddingsDF,\n",
    "                                   on=['Item'],\n",
    "                                   how='left')\n",
    "receivingStoreInventory.to_csv('data/receivingStoreInventory.csv', index=False)\n",
    "\n",
    "# Sending store\n",
    "sendingStoreInventory = sendingStoreInventory.loc[(sendingStoreInventory['Item'].notna()) &\n",
    "                                                  (sendingStoreInventory['Item'].str.strip() != '')].reset_index(drop=True)\n",
    "sendingStoreInventoryEmbeddingsDF = pd.DataFrame({\n",
    "    'Item': sendingStoreInventory['Item'].tolist(),\n",
    "    'Embeddings': createEmbeddings(sendingStoreInventory['Item'].tolist())\n",
    "})\n",
    "sendingStoreInventory = pd.merge(sendingStoreInventory, sendingStoreInventoryEmbeddingsDF,\n",
    "                                 on=['Item'],\n",
    "                                 how='left')\n",
    "receivingStoreInventory.to_csv('data/sendingStoreInventory.csv', index=False)"
   ]
  },
  {
   "cell_type": "markdown",
   "id": "7bbce7c6",
   "metadata": {},
   "source": [
    "## Distance matrix"
   ]
  },
  {
   "cell_type": "code",
   "execution_count": 8,
   "id": "7850cbd9",
   "metadata": {},
   "outputs": [
    {
     "name": "stderr",
     "output_type": "stream",
     "text": [
      "/var/folders/94/8tcfn2853pq34sljn01lv5bc0000gp/T/ipykernel_18740/3351263055.py:1: DtypeWarning: Columns (6,7,8,9) have mixed types. Specify dtype option on import or set low_memory=False.\n",
      "  receivingStoreInventory = pd.read_csv('data/receivingStoreInventory.csv')\n",
      "/var/folders/94/8tcfn2853pq34sljn01lv5bc0000gp/T/ipykernel_18740/3351263055.py:2: DtypeWarning: Columns (6,7,8,9) have mixed types. Specify dtype option on import or set low_memory=False.\n",
      "  sendingStoreInventory = pd.read_csv('data/sendingStoreInventory.csv')\n"
     ]
    }
   ],
   "source": [
    "receivingStoreInventory = pd.read_csv('data/receivingStoreInventory.csv')\n",
    "sendingStoreInventory = pd.read_csv('data/sendingStoreInventory.csv')"
   ]
  },
  {
   "cell_type": "code",
   "execution_count": null,
   "id": "bbbf4bc3",
   "metadata": {},
   "outputs": [],
   "source": [
    "receivingStoreEmbeddings = np.vstack(receivingStoreInventoryEmbeddingsDF['Embeddings'].values)\n",
    "sendingStoreEmbeddings = np.vstack(sendingStoreInventoryEmbeddingsDF['Embeddings'].values)\n",
    "distanceMatrix = cosine_distances(receivingStoreEmbeddings, sendingStoreEmbeddings)\n",
    "np.save('data/distanceMatrix.npy', distanceMatrix)"
   ]
  },
  {
   "cell_type": "markdown",
   "id": "27e073c4",
   "metadata": {},
   "source": [
    "## Matrix analysis"
   ]
  },
  {
   "cell_type": "code",
   "execution_count": null,
   "id": "92612833",
   "metadata": {},
   "outputs": [],
   "source": [
    "receivingStoreInventory = pd.read_csv('data/receivingStoreInventory.csv')\n",
    "sendingStoreInventory = pd.read_csv('data/sendingStoreInventory.csv')\n",
    "distanceMatrix = np.load('data/distanceMatrix.npy')"
   ]
  }
 ],
 "metadata": {
  "kernelspec": {
   "display_name": "inventory-merging",
   "language": "python",
   "name": "python3"
  },
  "language_info": {
   "codemirror_mode": {
    "name": "ipython",
    "version": 3
   },
   "file_extension": ".py",
   "mimetype": "text/x-python",
   "name": "python",
   "nbconvert_exporter": "python",
   "pygments_lexer": "ipython3",
   "version": "3.11.13"
  }
 },
 "nbformat": 4,
 "nbformat_minor": 5
}
