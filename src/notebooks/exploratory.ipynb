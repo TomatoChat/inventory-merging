{
 "cells": [
  {
   "cell_type": "code",
   "execution_count": null,
   "id": "40f28c61",
   "metadata": {},
   "outputs": [],
   "source": [
    "import glob\n",
    "import logging\n",
    "import numpy as np\n",
    "import os\n",
    "import pandas as pd\n",
    "from sentence_transformers import SentenceTransformer\n",
    "from sklearn.feature_extraction.text import TfidfVectorizer\n",
    "from sklearn.metrics.pairwise import cosine_distances, cosine_similarity\n",
    "\n",
    "\n",
    "currentDirectory = os.getcwd()\n",
    "\n",
    "if not os.path.exists('data'):\n",
    "    while currentDirectory != os.path.dirname(currentDirectory):\n",
    "        parentDirectory = os.path.dirname(currentDirectory)\n",
    "\n",
    "        if os.path.exists(os.path.join(parentDirectory, 'data')):\n",
    "            os.chdir(parentDirectory)\n",
    "            break\n",
    "\n",
    "        currentDirectory = parentDirectory\n",
    "\n",
    "logging.basicConfig(\n",
    "    level=logging.INFO,\n",
    "    format='%(asctime)s - %(levelname)s - %(message)s',\n",
    "    datefmt='%Y-%m-%d %H:%M:%S'\n",
    ")"
   ]
  },
  {
   "cell_type": "code",
   "execution_count": null,
   "id": "97079137",
   "metadata": {},
   "outputs": [],
   "source": [
    "filePattern = 'data/store_1_*.csv'\n",
    "receivingStoreInventory = pd.concat([pd.read_csv(f) for f in glob.glob(filePattern)], ignore_index=True)\n",
    "receivingStoreInventory['Qty.'] = pd.to_numeric(receivingStoreInventory['Qty.'].fillna(0), errors='coerce')\n",
    "receivingStoreInventory['Price'] = pd.to_numeric(receivingStoreInventory['Price'].fillna(0), errors='coerce')\n",
    "\n",
    "sendingStoreInventory = pd.read_csv('data/store_2.csv')\n",
    "sendingStoreInventory['Qty.'] = pd.to_numeric(sendingStoreInventory['Qty.'].fillna(0), errors='coerce')\n",
    "sendingStoreInventory = sendingStoreInventory.loc[sendingStoreInventory['Qty.'] > 0]"
   ]
  },
  {
   "cell_type": "markdown",
   "id": "ff44b1df",
   "metadata": {},
   "source": [
    "# Data cleaning"
   ]
  },
  {
   "cell_type": "code",
   "execution_count": null,
   "id": "97d0b72c",
   "metadata": {},
   "outputs": [],
   "source": [
    "def checkDuplicatesColumnDifferences(df: pd.DataFrame, columnToCheck: str, columnDuplicated: str = 'Item') -> tuple[int, list[str]]:\n",
    "    sortedDuplicates = df.loc[df.duplicated(subset=[columnDuplicated], keep=False)].sort_values('Item')\n",
    "    differentPrices = []\n",
    "\n",
    "    for duplicate in sortedDuplicates[columnDuplicated].unique():\n",
    "        duplicateData = sortedDuplicates.loc[sortedDuplicates[columnDuplicated] == duplicate]\n",
    "        uniquePrices = duplicateData[columnToCheck].nunique()\n",
    "\n",
    "        if uniquePrices > 1:\n",
    "            differentPrices.append(duplicate)\n",
    "            \n",
    "    logging.info(f'Duplicates with different \"{columnToCheck}\" #{len(differentPrices)}')\n",
    "    return len(differentPrices), differentPrices\n",
    "\n",
    "\n",
    "def mergeDuplicates(df: pd.DataFrame, columnsToMerge: dict[str, str], columnDuplicated: list[str] = ['Item']) -> pd.DataFrame:\n",
    "    logging.info(f'Duplicate item #{df.duplicated(subset=columnDuplicated).sum()}')\n",
    "    mergedDuplicates = df.groupby(columnDuplicated).agg(columnsToMerge).reset_index()\n",
    "    df = pd.merge(df.drop_duplicates(subset=columnDuplicated, keep = 'first').drop(columns=list(columnsToMerge.keys())), mergedDuplicates,\n",
    "                  on=columnDuplicated,\n",
    "                  how='left')\n",
    "    \n",
    "    logging.info(f'Duplicate item #{df.duplicated(subset=columnDuplicated).sum()}')\n",
    "    return df"
   ]
  },
  {
   "cell_type": "code",
   "execution_count": null,
   "id": "8fdf50c0",
   "metadata": {},
   "outputs": [],
   "source": [
    "# Sending store\n",
    "numberOfDuplicatesPrices, differentPrices = checkDuplicatesColumnDifferences(receivingStoreInventory, 'Price')\n",
    "numberOfDuplicatesUPC, differentUPC = checkDuplicatesColumnDifferences(receivingStoreInventory, 'UPC')\n",
    "receivingStoreInventory = mergeDuplicates(receivingStoreInventory, {'Qty.': 'sum', 'Price': 'mean', 'UPC': 'first'})\n",
    "receivingStoreInventory.to_csv('data/receivingStoreInventory.csv', index=False)\n",
    "\n",
    "# Receiving store\n",
    "sendingStoreInventory = mergeDuplicates(sendingStoreInventory, {'Qty.': 'sum'})\n",
    "receivingStoreInventory.to_csv('data/sendingStoreInventory.csv', index=False)"
   ]
  },
  {
   "cell_type": "markdown",
   "id": "ed2b4ffa",
   "metadata": {},
   "source": [
    "# Matching algorithm"
   ]
  },
  {
   "cell_type": "code",
   "execution_count": null,
   "id": "f7ef5772",
   "metadata": {},
   "outputs": [],
   "source": [
    "receivingStoreInventory = pd.read_csv('data/receivingStoreInventory.csv')\n",
    "sendingStoreInventory = pd.read_csv('data/sendingStoreInventory.csv')"
   ]
  },
  {
   "cell_type": "markdown",
   "id": "5c275f8e",
   "metadata": {},
   "source": [
    "## Embeddings creation"
   ]
  },
  {
   "cell_type": "code",
   "execution_count": null,
   "id": "054e8635",
   "metadata": {},
   "outputs": [],
   "source": [
    "def createEmbeddings(itemNames: list[str], modelNameHF: str = 'all-MiniLM-L6-v2') -> list[list[float]]:\n",
    "    model = SentenceTransformer(modelNameHF)\n",
    "    embeddings = model.encode(itemNames)\n",
    "    \n",
    "    return embeddings.tolist()"
   ]
  },
  {
   "cell_type": "code",
   "execution_count": null,
   "id": "67c525d5",
   "metadata": {},
   "outputs": [],
   "source": [
    "# Receiving store\n",
    "receivingStoreInventory = receivingStoreInventory.loc[(receivingStoreInventory['Item'].notna()) &\n",
    "                                                      (receivingStoreInventory['Item'].str.strip() != '')].reset_index(drop=True)\n",
    "receivingStoreInventoryEmbeddingsDF = pd.DataFrame({\n",
    "    'Item': receivingStoreInventory['Item'].tolist(),\n",
    "    'Embeddings': createEmbeddings(receivingStoreInventory['Item'].tolist())\n",
    "})\n",
    "receivingStoreInventory = pd.merge(receivingStoreInventory, receivingStoreInventoryEmbeddingsDF,\n",
    "                                   on=['Item'],\n",
    "                                   how='left')\n",
    "receivingStoreInventory.to_csv('data/receivingStoreInventory.csv', index=False)\n",
    "\n",
    "# Sending store\n",
    "sendingStoreInventory = sendingStoreInventory.loc[(sendingStoreInventory['Item'].notna()) &\n",
    "                                                  (sendingStoreInventory['Item'].str.strip() != '')].reset_index(drop=True)\n",
    "sendingStoreInventoryEmbeddingsDF = pd.DataFrame({\n",
    "    'Item': sendingStoreInventory['Item'].tolist(),\n",
    "    'Embeddings': createEmbeddings(sendingStoreInventory['Item'].tolist())\n",
    "})\n",
    "sendingStoreInventory = pd.merge(sendingStoreInventory, sendingStoreInventoryEmbeddingsDF,\n",
    "                                 on=['Item'],\n",
    "                                 how='left')\n",
    "receivingStoreInventory.to_csv('data/sendingStoreInventory.csv', index=False)"
   ]
  },
  {
   "cell_type": "markdown",
   "id": "7bbce7c6",
   "metadata": {},
   "source": [
    "## Distance matrix"
   ]
  },
  {
   "cell_type": "code",
   "execution_count": null,
   "id": "3354f146",
   "metadata": {},
   "outputs": [],
   "source": [
    "receivingStoreInventory = pd.read_csv('data/receivingStoreInventory.csv')\n",
    "sendingStoreInventory = pd.read_csv('data/sendingStoreInventory.csv')"
   ]
  },
  {
   "cell_type": "markdown",
   "id": "bd6fafed",
   "metadata": {},
   "source": [
    "### Reduction of items to compare (TF-IDF)"
   ]
  },
  {
   "cell_type": "code",
   "execution_count": null,
   "id": "5185ddcc",
   "metadata": {},
   "outputs": [],
   "source": [
    "def getTopCandidatesTFIDF(sendingInventory: pd.DataFrame, receivingInventory: pd.DataFrame, topK: int = 50) -> dict:\n",
    "    '''\n",
    "    For each item in sending inventory, find the topK most similar items in receiving inventory using TF-IDF.\n",
    "        \n",
    "    Args:\n",
    "        sendingInventory (pd.DataFrame): DataFrame containing items to be matched. Must have 'Item' column.\n",
    "        receivingInventory (pd.DataFrame): DataFrame containing potential matches. Must have 'Item' column.\n",
    "        topK (int, optional): Number of top similar items to return for each sending item. Defaults to 50.\n",
    "    \n",
    "    Returns:\n",
    "        dict: Dictionary mapping sending item indices to lists of receiving item indices.\n",
    "    '''\n",
    "    sendingInventoryItems = sendingInventory['Item'].tolist()\n",
    "    receivingInventoryItems = receivingInventory['Item'].tolist()\n",
    "    \n",
    "    logging.info(f'Creating TF-IDF matrix for all items...')\n",
    "    vectorizer = TfidfVectorizer(\n",
    "        lowercase=True,\n",
    "        stop_words='english',\n",
    "        ngram_range=(1, 2),\n",
    "        min_df=1,\n",
    "        max_df=0.9\n",
    "    )\n",
    "    allItems = sendingInventoryItems + receivingInventoryItems\n",
    "    matrixTFIDF = vectorizer.fit_transform(allItems)\n",
    "    sendingInventoryTFIDF = matrixTFIDF[:len(sendingInventoryItems)]\n",
    "    receivingInventoryTFIDF = matrixTFIDF[len(sendingInventoryItems):]\n",
    "\n",
    "    logging.info(f'Calculating cosine similarity between sending and receiving inventory...')\n",
    "    similarityMatrixtFIDF = cosine_similarity(sendingInventoryTFIDF, receivingInventoryTFIDF)\n",
    "    candidatesSimilarity = {}\n",
    "    \n",
    "    for i, sendingInventoryIndex in enumerate(sendingInventory.index):\n",
    "        similarities = similarityMatrixtFIDF[i]\n",
    "        topCandidates = np.argsort(similarities)[::-1][:topK]\n",
    "        receivingInventoryItemsIndices = receivingInventory.index[topCandidates].tolist()\n",
    "        candidatesSimilarity[sendingInventoryIndex] = receivingInventoryItemsIndices\n",
    "\n",
    "        logging.info(f'\"{sendingInventory.loc[sendingInventoryIndex, \"Item\"]}\" -> best match: \"{receivingInventory.loc[receivingInventoryItemsIndices[0], \"Item\"]}\" and {len(receivingInventoryItemsIndices) - 1} others')\n",
    "\n",
    "    \n",
    "    return candidatesSimilarity\n",
    "\n",
    "\n",
    "matchingSendingInventoryCandidates = getTopCandidatesTFIDF(sendingStoreInventory, receivingStoreInventory, 50)"
   ]
  },
  {
   "cell_type": "markdown",
   "id": "d9d770ce",
   "metadata": {},
   "source": [
    "### Candidates' embeddings distances"
   ]
  },
  {
   "cell_type": "code",
   "execution_count": null,
   "id": "9e961724",
   "metadata": {},
   "outputs": [],
   "source": [
    "def calculateEmbeddingDistancesForCandidates(sendingInventory: pd.DataFrame, receivingInventory: pd.DataFrame, candidatesDict: dict) -> dict:\n",
    "    \"\"\"\n",
    "    Calculate embedding distances between sending items and their top TF-IDF candidates.\n",
    "    \n",
    "    Args:\n",
    "        sendingInventory (pd.DataFrame): DataFrame containing sending items with embeddings\n",
    "        receivingInventory (pd.DataFrame): DataFrame containing receiving items with embeddings  \n",
    "        candidatesDict (dict): Dictionary mapping sending item indices to lists of receiving item indices\n",
    "    \n",
    "    Returns:\n",
    "        dict: Dictionary mapping sending item indices to (receiving_indices, distances) tuples\n",
    "    \"\"\"\n",
    "    results = {}\n",
    "    \n",
    "    for sendingIdx, receivingCandidates in candidatesDict.items():\n",
    "        sendingItem = sendingInventory.loc[sendingIdx]\n",
    "        sendingEmbedding = np.array(sendingItem['Embeddings'])\n",
    "        receivingCandidatesDF = receivingInventory.loc[receivingCandidates]\n",
    "        receivingEmbeddings = np.vstack(receivingCandidatesDF['Embeddings'].values)\n",
    "        distances = cosine_distances([sendingEmbedding], receivingEmbeddings)[0]\n",
    "        results[sendingIdx] = (receivingCandidates, distances)\n",
    "        bestMatchIdx = np.argmin(distances)\n",
    "        bestMatchItem = receivingCandidatesDF.iloc[bestMatchIdx]['Item']\n",
    "        bestDistance = distances[bestMatchIdx]\n",
    "        \n",
    "        logging.info(f'\"{sendingItem[\"Item\"]}\" -> best embedding match: \"{bestMatchItem}\" (distance: {bestDistance:.3f})')\n",
    "    \n",
    "    return results\n",
    "\n",
    "\n",
    "embeddingDistances = calculateEmbeddingDistancesForCandidates(sendingStoreInventory, receivingStoreInventory, matchingSendingInventoryCandidates)"
   ]
  },
  {
   "cell_type": "markdown",
   "id": "3a8d13f7",
   "metadata": {},
   "source": [
    "### Matching items"
   ]
  },
  {
   "cell_type": "code",
   "execution_count": null,
   "id": "ba34671d",
   "metadata": {},
   "outputs": [],
   "source": [
    "def assignOptimalMatches(embeddingDistances: dict, sendingInventory: pd.DataFrame, receivingInventory: pd.DataFrame) -> dict:\n",
    "    \"\"\"\n",
    "    Assign optimal matches between sending and receiving items, handling conflicts by choosing the closest match.\n",
    "    \n",
    "    Args:\n",
    "        embeddingDistances (dict): Dictionary from calculateEmbeddingDistancesForCandidates\n",
    "        sendingInventory (pd.DataFrame): Sending items DataFrame\n",
    "        receivingInventory (pd.DataFrame): Receiving items DataFrame\n",
    "    \n",
    "    Returns:\n",
    "        dict: Dictionary mapping sending item indices to their best matched receiving item index\n",
    "    \"\"\"\n",
    "    receivingToSending = {}\n",
    "    \n",
    "    for sendingIdx, (receivingIndices, distances) in embeddingDistances.items():\n",
    "        for i, receivingIdx in enumerate(receivingIndices):\n",
    "            distance = distances[i]\n",
    "\n",
    "            if receivingIdx not in receivingToSending:\n",
    "                receivingToSending[receivingIdx] = []\n",
    "            \n",
    "            receivingToSending[receivingIdx].append((sendingIdx, distance))\n",
    "    \n",
    "    finalMatches = {}\n",
    "    receivingItemAssignments = {}\n",
    "    \n",
    "    for receivingIdx, candidates in receivingToSending.items():\n",
    "        candidates.sort(key=lambda x: x[1])\n",
    "        \n",
    "        for sendingIdx, distance in candidates:\n",
    "            if sendingIdx not in finalMatches:\n",
    "                finalMatches[sendingIdx] = receivingIdx\n",
    "                receivingItemAssignments[receivingIdx] = sendingIdx\n",
    "                break\n",
    "    \n",
    "    for sendingIdx, receivingIdx in finalMatches.items():\n",
    "        sendingItem = sendingInventory.loc[sendingIdx]['Item']\n",
    "        receivingItem = receivingInventory.loc[receivingIdx]['Item']\n",
    "        receivingCandidates, distances = embeddingDistances[sendingIdx]\n",
    "        candidateIdx = receivingCandidates.index(receivingIdx)\n",
    "        distance = distances[candidateIdx]\n",
    "        \n",
    "        logging.info(f'MATCH: \"{sendingItem}\" -> \"{receivingItem}\" (distance: {distance:.3f})')\n",
    "        \n",
    "    return finalMatches\n",
    "\n",
    "\n",
    "optimalMatches = assignOptimalMatches(embeddingDistances, sendingStoreInventory, receivingStoreInventory)"
   ]
  }
 ],
 "metadata": {
  "kernelspec": {
   "display_name": "inventory-merging",
   "language": "python",
   "name": "python3"
  },
  "language_info": {
   "codemirror_mode": {
    "name": "ipython",
    "version": 3
   },
   "file_extension": ".py",
   "mimetype": "text/x-python",
   "name": "python",
   "nbconvert_exporter": "python",
   "pygments_lexer": "ipython3",
   "version": "3.11.13"
  }
 },
 "nbformat": 4,
 "nbformat_minor": 5
}
