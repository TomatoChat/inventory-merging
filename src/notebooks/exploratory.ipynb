{
 "cells": [
  {
   "cell_type": "code",
   "execution_count": null,
   "id": "40f28c61",
   "metadata": {},
   "outputs": [],
   "source": [
    "import glob\n",
    "import logging\n",
    "import os\n",
    "import pandas as pd\n",
    "\n",
    "currentDirectory = os.getcwd()\n",
    "\n",
    "if not os.path.exists('data'):\n",
    "    while currentDirectory != os.path.dirname(currentDirectory):\n",
    "        parentDirectory = os.path.dirname(currentDirectory)\n",
    "\n",
    "        if os.path.exists(os.path.join(parentDirectory, 'data')):\n",
    "            os.chdir(parentDirectory)\n",
    "            break\n",
    "\n",
    "        currentDirectory = parentDirectory\n",
    "\n",
    "logging.basicConfig(\n",
    "    level=logging.INFO,\n",
    "    format='%(asctime)s - %(levelname)s - %(message)s',\n",
    "    datefmt='%Y-%m-%d %H:%M:%S'\n",
    ")"
   ]
  },
  {
   "cell_type": "code",
   "execution_count": null,
   "id": "97079137",
   "metadata": {},
   "outputs": [],
   "source": [
    "filePattern = 'data/store_1_*.csv'\n",
    "receivingStoreInventory = pd.concat([pd.read_csv(f) for f in glob.glob(filePattern)], ignore_index=True)\n",
    "receivingStoreInventory['Qty.'] = pd.to_numeric(receivingStoreInventory['Qty.'].fillna(0), errors='coerce')\n",
    "receivingStoreInventory['Price'] = pd.to_numeric(receivingStoreInventory['Price'].fillna(0), errors='coerce')\n",
    "\n",
    "sendingStoreInventory = pd.read_csv('data/store_2.csv')\n",
    "sendingStoreInventory['Qty.'] = pd.to_numeric(sendingStoreInventory['Qty.'].fillna(0), errors='coerce')\n",
    "sendingStoreInventory = sendingStoreInventory.loc[sendingStoreInventory['Qty.'] > 0]"
   ]
  },
  {
   "cell_type": "markdown",
   "id": "ff44b1df",
   "metadata": {},
   "source": [
    "# Data cleaning"
   ]
  },
  {
   "cell_type": "code",
   "execution_count": null,
   "id": "97d0b72c",
   "metadata": {},
   "outputs": [],
   "source": [
    "def checkDuplicatesColumnDifferences(df: pd.DataFrame, columnToCheck: str, columnDuplicated: str = 'Item') -> tuple[int, list[str]]:\n",
    "    sortedDuplicates = df.loc[df.duplicated(subset=[columnDuplicated], keep=False)].sort_values('Item')\n",
    "    differentPrices = []\n",
    "\n",
    "    for duplicate in sortedDuplicates[columnDuplicated].unique():\n",
    "        duplicateData = sortedDuplicates.loc[sortedDuplicates[columnDuplicated] == duplicate]\n",
    "        uniquePrices = duplicateData[columnToCheck].nunique()\n",
    "\n",
    "        if uniquePrices > 1:\n",
    "            differentPrices.append(duplicate)\n",
    "            \n",
    "    logging.info(f'Duplicates with different \"{columnToCheck}\" #{len(differentPrices)}')\n",
    "    return len(differentPrices), differentPrices\n",
    "\n",
    "\n",
    "def mergeDuplicates(df: pd.DataFrame, columnsToMerge: dict[str, str], columnDuplicated: list[str] = ['Item']) -> pd.DataFrame:\n",
    "    logging.info(f'Duplicate item #{df.duplicated(subset=columnDuplicated).sum()}')\n",
    "    mergedDuplicates = df.groupby(columnDuplicated).agg(columnsToMerge).reset_index()\n",
    "    df = pd.merge(df.drop_duplicates(subset=columnDuplicated, keep = \"first\").drop(columns=list(columnsToMerge.keys())), mergedDuplicates,\n",
    "                  on=columnDuplicated,\n",
    "                  how='left')\n",
    "    \n",
    "    logging.info(f'Duplicate item #{df.duplicated(subset=columnDuplicated).sum()}')\n",
    "    return df"
   ]
  },
  {
   "cell_type": "code",
   "execution_count": null,
   "id": "8fdf50c0",
   "metadata": {},
   "outputs": [],
   "source": [
    "# Sending store\n",
    "numberOfDuplicatesPrices, differentPrices = checkDuplicatesColumnDifferences(receivingStoreInventory, 'Price')\n",
    "numberOfDuplicatesUPC, differentUPC = checkDuplicatesColumnDifferences(receivingStoreInventory, 'UPC')\n",
    "receivingStoreInventory = mergeDuplicates(receivingStoreInventory, {'Qty.': 'sum', \"Price\": \"mean\", \"UPC\": \"first\"})\n",
    "\n",
    "# Receiving store\n",
    "sendingStoreInventory = mergeDuplicates(sendingStoreInventory, {'Qty.': 'sum'})"
   ]
  }
 ],
 "metadata": {
  "kernelspec": {
   "display_name": "inventory-merging",
   "language": "python",
   "name": "python3"
  },
  "language_info": {
   "codemirror_mode": {
    "name": "ipython",
    "version": 3
   },
   "file_extension": ".py",
   "mimetype": "text/x-python",
   "name": "python",
   "nbconvert_exporter": "python",
   "pygments_lexer": "ipython3",
   "version": "3.11.13"
  }
 },
 "nbformat": 4,
 "nbformat_minor": 5
}
